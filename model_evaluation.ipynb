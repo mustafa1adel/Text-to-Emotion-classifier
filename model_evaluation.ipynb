{
 "cells": [
  {
   "cell_type": "markdown",
   "metadata": {
    "id": "TCZ0DFrKSlxX"
   },
   "source": [
    "# Model Evaluation"
   ]
  },
  {
   "cell_type": "code",
   "execution_count": 1,
   "metadata": {
    "id": "xBT0yGguP6fc"
   },
   "outputs": [],
   "source": [
    "import pandas as pd\n",
    "from sklearn.pipeline import Pipeline\n",
    "from sklearn.feature_extraction.text import TfidfVectorizer\n",
    "from sklearn.model_selection import train_test_split\n",
    "\n",
    "from sklearn.linear_model import SGDClassifier\n",
    "from sklearn.naive_bayes import MultinomialNB"
   ]
  },
  {
   "cell_type": "code",
   "execution_count": 2,
   "metadata": {
    "id": "LS0_YLa6P6fi"
   },
   "outputs": [],
   "source": [
    "# laod the dataset\n",
    "data = pd.read_csv(\"/content/txtEmotion.csv\", index_col=0)\n",
    "\n",
    "# split the data to training and testing sets\n",
    "X_train, X_test, y_train, y_test = train_test_split(data.text, data.label,\n",
    "                                                   test_size= 0.2, \n",
    "                                                   random_state=42)"
   ]
  },
  {
   "cell_type": "markdown",
   "metadata": {
    "id": "ELL4IrSUP6fj"
   },
   "source": [
    "## Naive Bayes"
   ]
  },
  {
   "cell_type": "code",
   "execution_count": 3,
   "metadata": {
    "colab": {
     "base_uri": "https://localhost:8080/"
    },
    "id": "92b1rnNKP6fm",
    "outputId": "45a2f1bb-04d9-4f1e-e1a2-28b177660f41"
   },
   "outputs": [
    {
     "name": "stdout",
     "output_type": "stream",
     "text": [
      "accuracy 61.65\n"
     ]
    }
   ],
   "source": [
    "nb = Pipeline([('vectorizer', TfidfVectorizer(max_features=13000)),\n",
    "               ('clf', MultinomialNB()),\n",
    "              ])\n",
    "nb.fit(X_train, y_train)\n",
    "print('accuracy {:.2f}'.format(nb.score(X_test, y_test) * 100))"
   ]
  },
  {
   "cell_type": "markdown",
   "metadata": {
    "id": "UL09UoDfP6fo"
   },
   "source": [
    "## Linear SVM"
   ]
  },
  {
   "cell_type": "code",
   "execution_count": 4,
   "metadata": {
    "colab": {
     "base_uri": "https://localhost:8080/"
    },
    "id": "tGGDiiAOP6fp",
    "outputId": "05a78320-7490-4e82-eeff-1e01809ab154"
   },
   "outputs": [
    {
     "name": "stdout",
     "output_type": "stream",
     "text": [
      "accuracy 65.12\n"
     ]
    }
   ],
   "source": [
    "sgd = Pipeline([('tfidf', TfidfVectorizer(max_features=13000)),\n",
    "                ('clf', SGDClassifier(loss='hinge', \n",
    "                                      penalty='l2',\n",
    "                                      alpha=1e-3, \n",
    "                                      random_state= 30, \n",
    "                                      max_iter=5, \n",
    "                                      tol=None)),\n",
    "               ])\n",
    "sgd.fit(X_train, y_train)\n",
    "print('accuracy {:.2f}'.format(sgd.score(X_test, y_test) * 100))"
   ]
  },
  {
   "cell_type": "markdown",
   "metadata": {
    "id": "d1IWQKxKQ-DX"
   },
   "source": [
    "## DNN"
   ]
  },
  {
   "cell_type": "code",
   "execution_count": 10,
   "metadata": {
    "id": "ieQcKKzqQkPC"
   },
   "outputs": [],
   "source": [
    "from helpers import clean_text, create_encoder\n",
    "from helpers import create_tokenizer, max_length, encode_text\n",
    "from helpers import encode_label, define_model"
   ]
  },
  {
   "cell_type": "code",
   "execution_count": 6,
   "metadata": {
    "colab": {
     "base_uri": "https://localhost:8080/"
    },
    "id": "N9eSOT3WS9Dh",
    "outputId": "3a473b26-a07a-4f3e-92c5-80213966b5a1"
   },
   "outputs": [
    {
     "name": "stdout",
     "output_type": "stream",
     "text": [
      "Max document length: 64\n",
      "Vocabulary size: 26360\n",
      "(26720, 64)\n"
     ]
    }
   ],
   "source": [
    "trainLines, trainLabels = X_train, y_train\n",
    "# create tokenizer\n",
    "tokenizer = create_tokenizer(trainLines)\n",
    "# calculate max document length\n",
    "length = max_length(trainLines)\n",
    "# calculate vocabulary size\n",
    "vocab_size = len(tokenizer.word_index) + 1\n",
    "print('Max document length: %d' % length)\n",
    "print('Vocabulary size: %d' % vocab_size)\n",
    "# encode data\n",
    "trainX = encode_text(tokenizer, trainLines, length)\n",
    "print(trainX.shape)\n",
    "\n",
    "#create label encoder\n",
    "encoder = create_encoder(y_train)\n",
    "# encode labels \n",
    "trainY = encode_label(encoder, y_train)"
   ]
  },
  {
   "cell_type": "code",
   "execution_count": 7,
   "metadata": {
    "colab": {
     "base_uri": "https://localhost:8080/"
    },
    "id": "4FhLIfdXTQT7",
    "outputId": "2d72b912-eb32-468d-b6fb-f89ab402d038"
   },
   "outputs": [
    {
     "name": "stdout",
     "output_type": "stream",
     "text": [
      "Model: \"sequential\"\n",
      "_________________________________________________________________\n",
      " Layer (type)                Output Shape              Param #   \n",
      "=================================================================\n",
      " embedding (Embedding)       (None, 64, 100)           1300000   \n",
      "                                                                 \n",
      " conv1d (Conv1D)             (None, 63, 8)             1608      \n",
      "                                                                 \n",
      " max_pooling1d (MaxPooling1D  (None, 31, 8)            0         \n",
      " )                                                               \n",
      "                                                                 \n",
      " dropout (Dropout)           (None, 31, 8)             0         \n",
      "                                                                 \n",
      " conv1d_1 (Conv1D)           (None, 28, 16)            528       \n",
      "                                                                 \n",
      " max_pooling1d_1 (MaxPooling  (None, 14, 16)           0         \n",
      " 1D)                                                             \n",
      "                                                                 \n",
      " dropout_1 (Dropout)         (None, 14, 16)            0         \n",
      "                                                                 \n",
      " conv1d_2 (Conv1D)           (None, 7, 32)             4128      \n",
      "                                                                 \n",
      " max_pooling1d_2 (MaxPooling  (None, 3, 32)            0         \n",
      " 1D)                                                             \n",
      "                                                                 \n",
      " dropout_2 (Dropout)         (None, 3, 32)             0         \n",
      "                                                                 \n",
      " flatten (Flatten)           (None, 96)                0         \n",
      "                                                                 \n",
      " dense (Dense)               (None, 128)               12416     \n",
      "                                                                 \n",
      " dropout_3 (Dropout)         (None, 128)               0         \n",
      "                                                                 \n",
      " dense_1 (Dense)             (None, 4)                 516       \n",
      "                                                                 \n",
      "=================================================================\n",
      "Total params: 1,319,196\n",
      "Trainable params: 1,319,196\n",
      "Non-trainable params: 0\n",
      "_________________________________________________________________\n",
      "None\n",
      "Epoch 1/10\n",
      "710/710 [==============================] - 14s 13ms/step - loss: 1.3172 - accuracy: 0.3419 - val_loss: 1.2246 - val_accuracy: 0.4349\n",
      "Epoch 2/10\n",
      "710/710 [==============================] - 6s 8ms/step - loss: 1.1088 - accuracy: 0.4986 - val_loss: 1.0434 - val_accuracy: 0.5594\n",
      "Epoch 3/10\n",
      "710/710 [==============================] - 6s 8ms/step - loss: 0.9531 - accuracy: 0.6123 - val_loss: 0.9330 - val_accuracy: 0.6282\n",
      "Epoch 4/10\n",
      "710/710 [==============================] - 6s 8ms/step - loss: 0.8350 - accuracy: 0.6884 - val_loss: 0.9113 - val_accuracy: 0.6482\n",
      "Epoch 5/10\n",
      "710/710 [==============================] - 6s 9ms/step - loss: 0.7592 - accuracy: 0.7247 - val_loss: 0.9174 - val_accuracy: 0.6497\n",
      "Epoch 6/10\n",
      "710/710 [==============================] - 6s 9ms/step - loss: 0.7087 - accuracy: 0.7479 - val_loss: 0.9285 - val_accuracy: 0.6517\n",
      "Epoch 7/10\n",
      "710/710 [==============================] - 6s 9ms/step - loss: 0.6701 - accuracy: 0.7595 - val_loss: 0.9803 - val_accuracy: 0.6395\n"
     ]
    },
    {
     "data": {
      "text/plain": [
       "<keras.callbacks.History at 0x7f740ce1ba10>"
      ]
     },
     "execution_count": 7,
     "metadata": {},
     "output_type": "execute_result"
    }
   ],
   "source": [
    "# define model\n",
    "model, callback = define_model(length, 13000)\n",
    "# fit model\n",
    "model.fit(trainX, trainY, \n",
    "          epochs=10, batch_size=32, \n",
    "          validation_split= 0.15,\n",
    "          callbacks=[callback])"
   ]
  },
  {
   "cell_type": "code",
   "execution_count": 8,
   "metadata": {
    "id": "H9W5CgtCTk6P"
   },
   "outputs": [],
   "source": [
    "# encode data\n",
    "testX = encode_text(tokenizer, X_test, length)\n",
    "testY =  encoder.transform(y_test)"
   ]
  },
  {
   "cell_type": "code",
   "execution_count": 9,
   "metadata": {
    "colab": {
     "base_uri": "https://localhost:8080/"
    },
    "id": "P4_CUb56TqjX",
    "outputId": "7d4e7633-b22a-4fe0-f283-7e107bf6851d"
   },
   "outputs": [
    {
     "name": "stdout",
     "output_type": "stream",
     "text": [
      "209/209 [==============================] - 1s 4ms/step - loss: 0.9925 - accuracy: 0.6289\n"
     ]
    },
    {
     "data": {
      "text/plain": [
       "[0.9924736618995667, 0.6288922429084778]"
      ]
     },
     "execution_count": 9,
     "metadata": {},
     "output_type": "execute_result"
    }
   ],
   "source": [
    "model.evaluate(testX, testY)"
   ]
  },
  {
   "cell_type": "markdown",
   "metadata": {
    "id": "6gAK7ktn_l1W"
   },
   "source": [
    "## model evaluation\n",
    "\n",
    "| Models | Test Accuracy %|\n",
    "| --- | --- | \n",
    "| Naive Bayes | 61.65 |\n",
    "| Linear SVM | 65.12 |\n",
    "| Embedding + CNN | 62.89 |\n",
    "\n",
    "\n",
    "LINEAR SVM model has better accuracy"
   ]
  },
  {
   "cell_type": "code",
   "execution_count": 11,
   "metadata": {
    "id": "JL0TkpIL_j9U"
   },
   "outputs": [],
   "source": [
    "import pickle \n",
    "\n",
    "with open('Models/model.pkl', 'wb') as f:\n",
    "  pickle.dump(sgd, f)"
   ]
  },
  {
   "cell_type": "code",
   "execution_count": null,
   "metadata": {
    "id": "fXI0bUXtA_PA"
   },
   "outputs": [],
   "source": []
  }
 ],
 "metadata": {
  "accelerator": "GPU",
  "colab": {
   "collapsed_sections": [],
   "name": "model_evaluation.ipynb",
   "provenance": []
  },
  "kernelspec": {
   "display_name": "Python 3",
   "language": "python",
   "name": "python3"
  },
  "language_info": {
   "codemirror_mode": {
    "name": "ipython",
    "version": 3
   },
   "file_extension": ".py",
   "mimetype": "text/x-python",
   "name": "python",
   "nbconvert_exporter": "python",
   "pygments_lexer": "ipython3",
   "version": "3.6.8"
  }
 },
 "nbformat": 4,
 "nbformat_minor": 1
}
